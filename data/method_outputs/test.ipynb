{
 "cells": [
  {
   "cell_type": "code",
   "execution_count": 8,
   "metadata": {},
   "outputs": [],
   "source": [
    "import os\n",
    "import numpy\n",
    "method_path = \"./w6_msls_ils/IteratedLocalSearch\""
   ]
  },
  {
   "cell_type": "code",
   "execution_count": 2,
   "metadata": {},
   "outputs": [],
   "source": [
    "Alist=[]\n",
    "Blist=[]"
   ]
  },
  {
   "cell_type": "code",
   "execution_count": 5,
   "metadata": {},
   "outputs": [],
   "source": [
    "for instance in os.listdir(method_path):\n",
    "    instance_path = os.path.join(method_path, instance)\n",
    "                \n",
    "    if os.path.isdir(instance_path):\n",
    "        for file_name in os.listdir(instance_path):\n",
    "            if file_name.endswith(\".txt\"):\n",
    "                file_path = os.path.join(instance_path, file_name)\n",
    "                \n",
    "                with open(file_path, 'r') as file:\n",
    "                    data = file.readlines()\n",
    "                    count = int(data[4].strip()) if data[4].strip().isdigit() else None\n",
    "                    if instance==\"A\":\n",
    "                        Alist.append(count)\n",
    "                    else:\n",
    "                        Blist.append(count)"
   ]
  },
  {
   "cell_type": "code",
   "execution_count": 6,
   "metadata": {},
   "outputs": [
    {
     "name": "stdout",
     "output_type": "stream",
     "text": [
      "[3093, 3467, 3292, 3206, 3336, 3308, 3310, 3374, 3519, 3733, 3680, 3331, 3403, 3149, 2823, 3566, 3440, 3410, 3182, 3375]\n",
      "[3342, 3017, 3594, 3511, 2907, 3490, 3394, 3273, 3174, 3303, 3189, 2805, 3185, 3262, 3377, 3259, 3347, 3484, 3499, 3100]\n"
     ]
    }
   ],
   "source": [
    "print(Alist)\n",
    "print(Blist)"
   ]
  },
  {
   "cell_type": "code",
   "execution_count": 12,
   "metadata": {},
   "outputs": [
    {
     "name": "stdout",
     "output_type": "stream",
     "text": [
      "MIN 2823 MAX 3733 MEAN 3349.85\n",
      "MIN 2805 MAX 3594 MEAN 3275.6\n"
     ]
    }
   ],
   "source": [
    "print(f\"MIN {min(Alist)} MAX {max(Alist)} MEAN {numpy.average(Alist)}\")\n",
    "print(f\"MIN {min(Blist)} MAX {max(Blist)} MEAN {numpy.average(Blist)}\")"
   ]
  },
  {
   "cell_type": "code",
   "execution_count": null,
   "metadata": {},
   "outputs": [],
   "source": []
  }
 ],
 "metadata": {
  "kernelspec": {
   "display_name": "Python 3",
   "language": "python",
   "name": "python3"
  },
  "language_info": {
   "codemirror_mode": {
    "name": "ipython",
    "version": 3
   },
   "file_extension": ".py",
   "mimetype": "text/x-python",
   "name": "python",
   "nbconvert_exporter": "python",
   "pygments_lexer": "ipython3",
   "version": "3.12.4"
  }
 },
 "nbformat": 4,
 "nbformat_minor": 2
}
